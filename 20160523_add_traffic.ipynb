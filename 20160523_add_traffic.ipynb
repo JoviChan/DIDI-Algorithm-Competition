{
 "cells": [
  {
   "cell_type": "code",
   "execution_count": 197,
   "metadata": {
    "collapsed": false
   },
   "outputs": [],
   "source": [
    "import os\n",
    "from dateutil.parser import parse as dateutil_parse\n",
    "import pandas as pd\n",
    "import numpy as np\n",
    "\n",
    "from sklearn.preprocessing import StandardScaler as skStandardScaler\n",
    "from sklearn.ensemble import RandomForestRegressor, GradientBoostingRegressor, AdaBoostRegressor\n",
    "from sklearn.cross_validation import train_test_split,cross_val_score\n",
    "\n",
    "PATH = 'season_1/'\n",
    "CLEAN_PATH = PATH+'clean/'\n",
    "\n",
    "from mylib import myStandardScaler,process_order,process_traffic,get_order_group,get_traffic_group,XY_order_traffic, prediction2submit, metrics, DISTRICTS\n",
    "\n",
    "%matplotlib inline\n",
    "%load_ext autoreload\n",
    "%autoreload 2"
   ]
  },
  {
   "cell_type": "code",
   "execution_count": 3,
   "metadata": {
    "collapsed": true
   },
   "outputs": [],
   "source": [
    "cluster_map = pd.read_csv(CLEAN_PATH+'cluster_map.csv',index_col=0)\n",
    "poi = pd.read_csv(CLEAN_PATH+'poi.csv',index_col=0)\n",
    "train_order = pd.read_pickle(CLEAN_PATH+'train_order.pickle')\n",
    "test_order = pd.read_pickle(CLEAN_PATH+'test_order.pickle')\n",
    "train_traffic = pd.read_pickle(CLEAN_PATH+'train_traffic.pickle')\n",
    "test_traffic = pd.read_pickle(CLEAN_PATH+'test_traffic.pickle')\n",
    "train_weather = pd.read_pickle(CLEAN_PATH+'train_weather.pickle')\n",
    "test_weather = pd.read_pickle(CLEAN_PATH+'test_weather.pickle')\n",
    "test_target = pd.read_csv(CLEAN_PATH+'test_target.csv',index_col=0,parse_dates=True)"
   ]
  },
  {
   "cell_type": "code",
   "execution_count": 5,
   "metadata": {
    "collapsed": true
   },
   "outputs": [],
   "source": [
    "train_order = process_order(train_order)\n",
    "test_order = process_order(test_order)\n",
    "train_traffic = process_traffic(train_traffic)\n",
    "test_traffic = process_traffic(test_traffic)"
   ]
  },
  {
   "cell_type": "code",
   "execution_count": 28,
   "metadata": {
    "collapsed": false
   },
   "outputs": [],
   "source": [
    "train_order_group = get_order_group(train_order)\n",
    "test_order_group = get_order_group(test_order)\n",
    "train_traffic_group = get_traffic_group(train_traffic)\n",
    "test_traffic_group = get_traffic_group(test_traffic)"
   ]
  },
  {
   "cell_type": "code",
   "execution_count": 156,
   "metadata": {
    "collapsed": false
   },
   "outputs": [],
   "source": [
    "train_slot = pd.Index(sorted(train_order['datetimeslot'].unique()))\n",
    "train_slot = pd.Index(filter(lambda x: x%1000 >4,train_slot))\n",
    "test_slot = test_target['datetimeslot']"
   ]
  },
  {
   "cell_type": "code",
   "execution_count": 157,
   "metadata": {
    "collapsed": false
   },
   "outputs": [
    {
     "name": "stdout",
     "output_type": "stream",
     "text": [
      "(2940, 204)\n",
      "(2940L,)\n"
     ]
    }
   ],
   "source": [
    "tmp = XY_order_traffic('c4ec24e0a58ebedaa1661e5c09e47bb5',train_order_group,train_traffic_group,train_slot)\n",
    "print tmp[0].shape\n",
    "print tmp[1].shape"
   ]
  },
  {
   "cell_type": "code",
   "execution_count": 152,
   "metadata": {
    "collapsed": false
   },
   "outputs": [
    {
     "name": "stdout",
     "output_type": "stream",
     "text": [
      "(43, 216)\n",
      "(43L,)\n"
     ]
    }
   ],
   "source": [
    "tmp = XY_order_traffic('4725c39a5e5f4c188d382da3910b3f3f',test_order_group,test_traffic_group,test_slot)\n",
    "print tmp[0].shape\n",
    "print tmp[1].shape"
   ]
  },
  {
   "cell_type": "code",
   "execution_count": 192,
   "metadata": {
    "collapsed": false
   },
   "outputs": [],
   "source": [
    "train_XY_group = dict()\n",
    "for district in DISTRICTS:\n",
    "    train_XY_group[district] = XY_order_traffic(district,train_order_group,train_traffic_group,train_slot)"
   ]
  },
  {
   "cell_type": "code",
   "execution_count": 193,
   "metadata": {
    "collapsed": false
   },
   "outputs": [],
   "source": [
    "test_XY_group = dict()\n",
    "for district in DISTRICTS:\n",
    "    test_XY_group[district] = XY_order_traffic(district,test_order_group,test_traffic_group,test_slot)"
   ]
  },
  {
   "cell_type": "code",
   "execution_count": 194,
   "metadata": {
    "collapsed": false
   },
   "outputs": [
    {
     "data": {
      "text/plain": [
       "0"
      ]
     },
     "execution_count": 194,
     "metadata": {},
     "output_type": "execute_result"
    }
   ],
   "source": [
    "train_XY_group.values()[0][1].isnull().sum()"
   ]
  },
  {
   "cell_type": "code",
   "execution_count": 195,
   "metadata": {
    "collapsed": false
   },
   "outputs": [],
   "source": [
    "for district in DISTRICTS:\n",
    "    scaler = myStandardScaler()\n",
    "    train_XY_group[district][0] = scaler.fit_transform(train_XY_group[district][0])\n",
    "    test_XY_group[district][0] = scaler.transform(test_XY_group[district][0])"
   ]
  },
  {
   "cell_type": "code",
   "execution_count": null,
   "metadata": {
    "collapsed": false,
    "scrolled": false
   },
   "outputs": [
    {
     "name": "stdout",
     "output_type": "stream",
     "text": [
      "38d5ad2d22b61109fd8e7b43cd0e8901 r2 score 0.980448340084\n",
      "38d5ad2d22b61109fd8e7b43cd0e8901 metric 0.167567164954\n",
      "08f5b445ec6b29deba62e6fd8b0325a6 r2 score 0.782500009358\n",
      "08f5b445ec6b29deba62e6fd8b0325a6 metric 0.910008773245\n",
      "364bf755f9b270f0f9141d1a61de43ee r2 score 0.87857769232\n",
      "364bf755f9b270f0f9141d1a61de43ee metric 0.393285438549\n",
      "49ac89aa860c27e26c0836cb8dab2df2 r2 score 0.630291058383\n",
      "49ac89aa860c27e26c0836cb8dab2df2 metric 0.9475257432\n",
      "8bb37d24db1ad665e706c2655d9c4c72 r2 score 0.764883070798\n",
      "8bb37d24db1ad665e706c2655d9c4c72 metric 0.564738345421\n",
      "dd8d3b9665536d6e05b29c2648c0e69a r2 score 0.79049450771\n",
      "dd8d3b9665536d6e05b29c2648c0e69a metric 0.691325251872\n",
      "08232402614a9b48895cc3d0aeb0e9f2 r2 score 0.59539870614\n",
      "08232402614a9b48895cc3d0aeb0e9f2 metric 0.952734821734\n",
      "b702e920dcd2765e624dc1ce3a770512 r2 score 0.867620697189\n",
      "b702e920dcd2765e624dc1ce3a770512 metric 0.36466319282\n",
      "52d7b69796362a8ed1691a6cc02ddde4 r2 score 0.624243407443\n",
      "52d7b69796362a8ed1691a6cc02ddde4 metric 0.899333510133\n",
      "62afaf3288e236b389af9cfdc5206415 r2 score 0.970752160066\n",
      "62afaf3288e236b389af9cfdc5206415 metric 0.0635942525814\n",
      "445ff793ebd3477d4a2e0b36b2db9271 r2 score 0.516681205682\n",
      "445ff793ebd3477d4a2e0b36b2db9271 metric 0.984063405768\n",
      "693a21b16653871bbd455403da5412b4 r2 score 0.864330594054\n",
      "693a21b16653871bbd455403da5412b4 metric 0.517021017259\n",
      "a814069db8d32f0fa6e188f41059c6e1 r2 score 0.529284444177\n",
      "a814069db8d32f0fa6e188f41059c6e1 metric 0.972006574837\n",
      "c9f855e3e13480aad0af64b418e810c3 r2 score 0.765873278193\n",
      "c9f855e3e13480aad0af64b418e810c3 metric 0.930216018104\n",
      "0a5fef95db34383403d11cb6af937309 r2 score 0.634189210072\n",
      "0a5fef95db34383403d11cb6af937309 metric 0.972134687992\n",
      "ca064c2682ca48c6a21de012e87c0df5 r2 score 0.932150515178\n",
      "ca064c2682ca48c6a21de012e87c0df5 metric 0.1964169765\n",
      "f47f35242ed40655814bc086d7514046 r2 score 0.928232598918\n",
      "f47f35242ed40655814bc086d7514046 metric 0.692653164286\n",
      "f9280c5dab6910ed44e518248048b9fe r2 score 0.838579155695\n",
      "f9280c5dab6910ed44e518248048b9fe metric 0.78850073343\n",
      "825c426141df01d38c1b9e9c5330bdac r2 score 0.624727838542\n",
      "825c426141df01d38c1b9e9c5330bdac metric 0.944280370481\n",
      "a5609739c6b5c2719a3752327c5e33a7 r2 score 0.917660695383\n",
      "a5609739c6b5c2719a3752327c5e33a7 metric 0.297548907078\n",
      "90c5a34f06ac86aee0fd70e2adce7d8a r2 score 0.907664333129\n",
      "90c5a34f06ac86aee0fd70e2adce7d8a metric 0.119294679982\n",
      "73ff8ef735e1d68f0cdcbb84d788f2b6 r2 score 0.766674088517\n",
      "73ff8ef735e1d68f0cdcbb84d788f2b6 metric 0.63137879947\n",
      "1cbfbdd079ef93e74405c53fcfff8567 r2 score 0.957034769246\n",
      "1cbfbdd079ef93e74405c53fcfff8567 metric 0.58012724962\n",
      "52e56004d92b8c74d53e1e42699cba6f r2 score 0.96437583095\n",
      "52e56004d92b8c74d53e1e42699cba6f metric 0.358298404638\n",
      "d524868ce69cb9db10fc5af177fb9423 r2 score 0.780402070933\n",
      "d524868ce69cb9db10fc5af177fb9423 metric 0.954364546264\n",
      "3a43dcdff3c0b66b1acb1644ff055f9d r2 score 0.896548700858\n",
      "3a43dcdff3c0b66b1acb1644ff055f9d metric 0.2278502347\n",
      "1c60154546102e6525f68cb4f31e0657 r2 score 0.601709866178\n",
      "1c60154546102e6525f68cb4f31e0657 metric 0.908367647337\n",
      "4f8d81b5c31af5d1ba579a65ddc8a5cb r2 score 0.9171562728\n",
      "4f8d81b5c31af5d1ba579a65ddc8a5cb metric 0.676468112664\n",
      "cb6041cc08444746caf6039d8b9e43cb r2 score 0.74662780309\n",
      "cb6041cc08444746caf6039d8b9e43cb metric 0.889726074496\n",
      "3e12208dd0be281c92a6ab57d9a6fb32 r2 score 0.84188800686\n",
      "3e12208dd0be281c92a6ab57d9a6fb32 metric 0.664890877252\n",
      "de092beab9305613aca8f79d7d7224e7 r2 score 0.584461321138\n",
      "de092beab9305613aca8f79d7d7224e7 metric 0.966570372608\n",
      "44c097b7bd219d104050abbafe51bd49 r2 score 0.851625280995\n",
      "44c097b7bd219d104050abbafe51bd49 metric 0.658167570034\n",
      "4b9e4cf2fbdc8281b8a1f9f12b80ce4d r2 score 0.752496266078\n",
      "4b9e4cf2fbdc8281b8a1f9f12b80ce4d metric 0.862710117192\n",
      "ba32abfc048219e933bee869741da911 r2 score 0.591034232381\n",
      "ba32abfc048219e933bee869741da911 metric 0.962140803365\n",
      "74c1c25f4b283fa74a5514307b0d0278 r2 score 0.831003407014\n",
      "74c1c25f4b283fa74a5514307b0d0278 metric 0.153139190096\n",
      "2407d482f0ffa22a947068f2551fe62c r2 score 0.975102925275\n",
      "2407d482f0ffa22a947068f2551fe62c metric 0.104751897221\n",
      "d5cb17978de290c56e84c9cf97e63186 r2 score 0.760869696951\n",
      "d5cb17978de290c56e84c9cf97e63186 metric 0.973311279004\n",
      "4725c39a5e5f4c188d382da3910b3f3f r2 score 0.980108247279\n",
      "4725c39a5e5f4c188d382da3910b3f3f metric 0.0348970824969\n",
      "825a21aa308dea206adb49c4b77c7805 r2 score 0.534178595806\n",
      "825a21aa308dea206adb49c4b77c7805 metric 0.970156269575\n"
     ]
    }
   ],
   "source": [
    "rfr_models = {district: RandomForestRegressor(100, max_depth=14) for district in DISTRICTS}\n",
    "test_prediction = dict()\n",
    "for district, model in rfr_models.items():\n",
    "    model.fit(*train_XY_group[district])\n",
    "    train_prediction = pd.Series(np.floor(model.predict(train_XY_group[district][0])),index=train_XY_group[district][1].index)\n",
    "    test_prediction[district] = np.floor(model.predict(test_XY_group[district][0])) - test_XY_group[district][1].fillna(0)\n",
    "    print district,'r2 score', model.score(*train_XY_group[district])\n",
    "    print district,'metric', metrics(model.predict(train_XY_group[district][0]),train_prediction)"
   ]
  },
  {
   "cell_type": "code",
   "execution_count": null,
   "metadata": {
    "collapsed": false
   },
   "outputs": [],
   "source": [
    "prediction2submit(test_prediction, cluster_map).to_csv(PATH+'submit/rf14_order_traffic.csv',header=False,index=None)"
   ]
  },
  {
   "cell_type": "code",
   "execution_count": null,
   "metadata": {
    "collapsed": false
   },
   "outputs": [],
   "source": [
    ""
   ]
  },
  {
   "cell_type": "code",
   "execution_count": null,
   "metadata": {
    "collapsed": false
   },
   "outputs": [],
   "source": [
    ""
   ]
  },
  {
   "cell_type": "code",
   "execution_count": null,
   "metadata": {
    "collapsed": false
   },
   "outputs": [],
   "source": [
    ""
   ]
  },
  {
   "cell_type": "code",
   "execution_count": null,
   "metadata": {
    "collapsed": false
   },
   "outputs": [],
   "source": [
    ""
   ]
  },
  {
   "cell_type": "code",
   "execution_count": null,
   "metadata": {
    "collapsed": false
   },
   "outputs": [],
   "source": [
    ""
   ]
  },
  {
   "cell_type": "code",
   "execution_count": null,
   "metadata": {
    "collapsed": true
   },
   "outputs": [],
   "source": [
    ""
   ]
  }
 ],
 "metadata": {
  "kernelspec": {
   "display_name": "Python 2",
   "language": "python",
   "name": "python2"
  },
  "language_info": {
   "codemirror_mode": {
    "name": "ipython",
    "version": 2.0
   },
   "file_extension": ".py",
   "mimetype": "text/x-python",
   "name": "python",
   "nbconvert_exporter": "python",
   "pygments_lexer": "ipython2",
   "version": "2.7.11"
  }
 },
 "nbformat": 4,
 "nbformat_minor": 0
}